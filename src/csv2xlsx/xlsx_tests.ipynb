{
 "cells": [
  {
   "cell_type": "code",
   "execution_count": 138,
   "metadata": {},
   "outputs": [],
   "source": [
    "import xlsxwriter\n",
    "import pandas\n",
    "import re"
   ]
  },
  {
   "cell_type": "code",
   "execution_count": 139,
   "metadata": {},
   "outputs": [
    {
     "name": "stdout",
     "output_type": "stream",
     "text": [
      "dict_keys(['Status', 'Task type', 'Topology name', 'Dataset', 'Framework', 'Inference Framework', 'Input blob sizes', 'Precision', 'Batch size', 'Mode', 'Parameters', 'Infrastructure', 'Average time of single pass (s)', 'Latency', 'FPS'])\n",
      "Full size: 3528\n",
      "Status Success\n",
      "Task type classification\n",
      "Topology name alexnet\n",
      "Dataset ImageNET\n",
      "Framework Caffe\n",
      "Inference Framework OpenVINO DLDT\n",
      "Input blob sizes 1x3x227x227\n",
      "Precision FP32\n",
      "Batch size 1\n",
      "Mode Sync\n",
      "Parameters Device: CPU, Iteration count: 1000\n",
      "Infrastructure CPU: Intel(R) Xeon(R) Gold 6138 CPU @ 2.00GHz CPU family: x86_64, GPU: None, RAM size: 526980036 kB, OS family: Linux OS version: Linux-5.8.0-53-generic-x86_64-with-Ubuntu-18.04-bionic, Python version: 3.6.9\n",
      "Average time of single pass (s) 0.004\n",
      "Latency 0.004\n",
      "FPS 269.304\n"
     ]
    }
   ],
   "source": [
    "csv_file_name = 'results_total.csv'\n",
    "data = pandas.read_csv(csv_file_name, sep = ';', encoding='latin-1')\n",
    "data_dictionary = data.to_dict()\n",
    "print(data_dictionary.keys())\n",
    "print('Full size: {0}'.format(len(data_dictionary['Status'])))\n",
    "# печать 0-ой записи, value[0] - 0-ая запись\n",
    "for key, value in data_dictionary.items():\n",
    "    print(key, value[0])"
   ]
  },
  {
   "cell_type": "code",
   "execution_count": 140,
   "metadata": {},
   "outputs": [],
   "source": [
    "excel_file_name = 'test.xlsx'\n",
    "excel_sheet_name = 'Performance'\n",
    "book = xlsxwriter.Workbook(excel_file_name)\n",
    "sheet = book.add_worksheet(excel_sheet_name)\n",
    "\n",
    "sheet_head = list(data_dictionary.keys())\n",
    "\n",
    "cell_format = book.add_format({'align': 'center', 'valign': 'vcenter', 'border': 1, 'bold': True})\n",
    "sheet.merge_range('A1:A5', sheet_head[1], cell_format) # Task type\n",
    "sheet.merge_range('B1:B5', sheet_head[2], cell_format) # Topology name\n",
    "sheet.merge_range('C1:C5', sheet_head[4], cell_format) # Framework\n",
    "sheet.merge_range('D1:D5', sheet_head[6], cell_format) # Input blob sizes\n",
    "sheet.merge_range('E1:E5', sheet_head[8], cell_format) # Batch size"
   ]
  },
  {
   "cell_type": "code",
   "execution_count": 141,
   "metadata": {},
   "outputs": [
    {
     "name": "stdout",
     "output_type": "stream",
     "text": [
      "['CPU: Intel(R) Core(TM) i3-8100 CPU @ 3.60GHz, CPU family: x86_64, GPU: Intel(R) Gen9 HD Graphics (iGPU), RAM size: 32757700 kB, OS family: Linux, OS version: Linux-5.4.0-73-generic-x86_64-with-Ubuntu-18.04-bionic, Python version: 3.6.9', 'CPU: Intel(R) Core(TM) i7-8700 CPU @ 3.20GHz, CPU family: x86_64, GPU: Intel(R) Gen9 HD Graphics (iGPU), RAM size: 65727428 kB, OS family: Linux, OS version: Linux-5.4.0-52-generic-x86_64-with-Ubuntu-18.04-bionic, Python version: 3.6.9', 'CPU: Intel(R) Xeon(R) Gold 6138 CPU @ 2.00GHz CPU family: x86_64, GPU: None, RAM size: 526980036 kB, OS family: Linux OS version: Linux-5.8.0-53-generic-x86_64-with-Ubuntu-18.04-bionic, Python version: 3.6.9']\n",
      "[['OpenVINO DLDT'], ['OpenVINO DLDT'], ['OpenVINO DLDT']]\n",
      "[[['CPU', 'GPU', 'MYRIAD']], [['CPU', 'GPU', 'MYRIAD']], [['CPU']]]\n"
     ]
    }
   ],
   "source": [
    "# get unique infrastructure\n",
    "infrastructure = list(set(list(data_dictionary['Infrastructure'].values())))\n",
    "inference_frameworks = []\n",
    "\n",
    "for machine in infrastructure:\n",
    "    machine_inference_frameworks = []\n",
    "    for key, value in data_dictionary['Inference Framework'].items():\n",
    "        if data_dictionary['Infrastructure'][key] == machine and \\\n",
    "           (value in machine_inference_frameworks) == False:\n",
    "            machine_inference_frameworks.append(value)\n",
    "    inference_frameworks.append(machine_inference_frameworks)\n",
    "\n",
    "devices = []\n",
    "for idx in range(len(infrastructure)):\n",
    "    machine = infrastructure[idx]\n",
    "    machine_inference_frameworks = inference_frameworks[idx]\n",
    "    #print(machine)\n",
    "    #print(machine_inference_frameworks)\n",
    "    machine_framework_devices = []\n",
    "    for inference_framework in machine_inference_frameworks:\n",
    "        #print(inference_framework)\n",
    "        framework_devices = []\n",
    "        for key, value in data_dictionary['Parameters'].items():\n",
    "            pattern = re.compile(r'[.]*Device:[ ]*(?P<device_name>[\\W\\w]+)[,]+[.]*')\n",
    "            matcher = re.match(pattern, value)\n",
    "            device_name = matcher.group('device_name')\n",
    "            if data_dictionary['Infrastructure'][key] == machine and \\\n",
    "               data_dictionary['Inference Framework'][key] == inference_framework and \\\n",
    "               (device_name in framework_devices) == False:\n",
    "                framework_devices.append(device_name)\n",
    "        machine_framework_devices.append(framework_devices)\n",
    "    devices.append(machine_framework_devices)\n",
    "\n",
    "print(infrastructure)\n",
    "print(inference_frameworks)\n",
    "print(devices)"
   ]
  },
  {
   "cell_type": "code",
   "execution_count": 142,
   "metadata": {},
   "outputs": [
    {
     "name": "stdout",
     "output_type": "stream",
     "text": [
      "[[[['FP32'], ['FP32', 'FP16'], ['FP16']]], [[['FP32'], ['FP32', 'FP16'], ['FP16']]], [[['FP32']]]]\n"
     ]
    }
   ],
   "source": [
    "precisions = []\n",
    "for idx in range(len(infrastructure)):\n",
    "    machine = infrastructure[idx]\n",
    "    machine_inference_frameworks = inference_frameworks[idx]\n",
    "    machine_precisions = []\n",
    "    #print(machine)\n",
    "    #print(machine_inference_frameworks)\n",
    "    for idx2 in range(len(machine_inference_frameworks)):\n",
    "        inference_framework = machine_inference_frameworks[idx2]\n",
    "        framework_devices = devices[idx][idx2]\n",
    "        framework_precisions = []\n",
    "        #print(inference_framework)\n",
    "        #print(framework_devices)\n",
    "        for device in framework_devices:\n",
    "            #print(device)\n",
    "            device_precisions = []\n",
    "            for key, value in data_dictionary['Parameters'].items():\n",
    "                pattern = re.compile(r'[.]*Device:[ ]*(?P<device_name>[\\W\\w]+)[,]+[.]*')\n",
    "                matcher = re.match(pattern, value)\n",
    "                device_name = matcher.group('device_name')\n",
    "                #print(data_dictionary['Infrastructure'][key], data_dictionary['Inference Framework'][key], device_name, data_dictionary['Precision'][key])\n",
    "                if data_dictionary['Infrastructure'][key] == machine and \\\n",
    "                   data_dictionary['Inference Framework'][key] == inference_framework and \\\n",
    "                   device_name == device and \\\n",
    "                   (data_dictionary['Precision'][key] in device_precisions) == False:\n",
    "                    device_precisions.append(data_dictionary['Precision'][key])\n",
    "            #print(device_precisions)\n",
    "            framework_precisions.append(device_precisions)\n",
    "        machine_precisions.append(framework_precisions)\n",
    "    precisions.append(machine_precisions)           \n",
    "\n",
    "print(precisions)   \n"
   ]
  },
  {
   "cell_type": "code",
   "execution_count": 143,
   "metadata": {},
   "outputs": [
    {
     "name": "stdout",
     "output_type": "stream",
     "text": [
      "[[[[['Sync', 'Async']], [['Sync', 'Async'], ['Sync', 'Async']], [['Sync', 'Async']]]], [[[['Sync', 'Async']], [['Sync', 'Async'], ['Sync', 'Async']], [['Sync', 'Async']]]], [[[['Sync', 'Async']]]]]\n"
     ]
    }
   ],
   "source": [
    "execution_modes = []\n",
    "for idx in range(len(infrastructure)):\n",
    "    machine = infrastructure[idx]\n",
    "    machine_inference_frameworks = inference_frameworks[idx]\n",
    "    #print(machine)\n",
    "    #print(machine_inference_frameworks)\n",
    "    machine_modes = []\n",
    "    for idx2 in range(len(machine_inference_frameworks)):\n",
    "        inference_framework = machine_inference_frameworks[idx2]\n",
    "        framework_devices = devices[idx][idx2]\n",
    "        #print(inference_framework)\n",
    "        #print(framework_devices)\n",
    "        framework_modes = []\n",
    "        for idx3 in range(len(framework_devices)):\n",
    "            device = framework_devices[idx3]\n",
    "            device_precisions = precisions[idx][idx2][idx3]\n",
    "            #print(device)\n",
    "            #print(device_precisions)\n",
    "            framework_device_modes = []\n",
    "            for precision in device_precisions:\n",
    "                #print(precision)\n",
    "                device_precision_modes = []\n",
    "                for key, value in data_dictionary['Parameters'].items():\n",
    "                    pattern = re.compile(r'[.]*Device:[ ]*(?P<device_name>[\\W\\w]+)[,]+[.]*')\n",
    "                    matcher = re.match(pattern, value)\n",
    "                    device_name = matcher.group('device_name')\n",
    "                    if data_dictionary['Infrastructure'][key] == machine and \\\n",
    "                       data_dictionary['Inference Framework'][key] == inference_framework and \\\n",
    "                       device_name == device and \\\n",
    "                       data_dictionary['Precision'][key] == precision and \\\n",
    "                       (data_dictionary['Mode'][key] in device_precision_modes) == False:\n",
    "                        device_precision_modes.append(data_dictionary['Mode'][key])\n",
    "                #print(device_precision_modes)\n",
    "                framework_device_modes.append(device_precision_modes)\n",
    "            framework_modes.append(framework_device_modes)\n",
    "        machine_modes.append(framework_modes)\n",
    "    execution_modes.append(machine_modes)\n",
    "\n",
    "print(execution_modes)"
   ]
  },
  {
   "cell_type": "code",
   "execution_count": 144,
   "metadata": {},
   "outputs": [],
   "source": [
    "rel_row_idx = 4\n",
    "rel_col_idx = 5\n",
    "\n",
    "for idx in range(len(infrastructure)):\n",
    "    row_idx = rel_row_idx\n",
    "    col_idx = rel_col_idx\n",
    "    num_cols = 0\n",
    "    machine = infrastructure[idx]\n",
    "    # print(machine)\n",
    "    machine_inference_frameworks = inference_frameworks[idx]\n",
    "    col_idx3 = col_idx\n",
    "    for idx2 in range(len(machine_inference_frameworks)):\n",
    "        machine_framework = machine_inference_frameworks[idx2]\n",
    "        # print(machine_framework)\n",
    "        machine_framework_devices = devices[idx][idx2]\n",
    "        col_idx2 = col_idx\n",
    "        num_cols2 = 0\n",
    "        for idx3 in range(len(machine_framework_devices)):\n",
    "            machine_framework_device = machine_framework_devices[idx3]\n",
    "            # print(machine_framework_device)\n",
    "            framework_device_precisions = precisions[idx][idx2][idx3]\n",
    "            col_idx1 = col_idx\n",
    "            num_cols1 = 0\n",
    "            for idx4 in range(len(framework_device_precisions)):\n",
    "                framework_device_precision = framework_device_precisions[idx4]\n",
    "                # print(framework_device_precision)\n",
    "                framework_device_precision_modes = execution_modes[idx][idx2][idx3][idx4]\n",
    "                for idx5 in range(len(framework_device_precision_modes)):\n",
    "                    framework_device_precision_mode = framework_device_precision_modes[idx5]\n",
    "                    # print(framework_device_precision_mode)\n",
    "                    sheet.write(row_idx, col_idx + idx5, framework_device_precision_mode, cell_format)\n",
    "                sheet.merge_range(row_idx - 1, col_idx1, \\\n",
    "                                  row_idx - 1, col_idx1 + len(framework_device_precision_modes) - 1, \\\n",
    "                                  framework_device_precision, cell_format)\n",
    "                col_idx += len(framework_device_precision_modes)\n",
    "                col_idx1 += len(framework_device_precision_modes)\n",
    "                num_cols1 += len(framework_device_precision_modes)\n",
    "                num_cols2 += len(framework_device_precision_modes)\n",
    "                num_cols += len(framework_device_precision_modes)\n",
    "            sheet.merge_range(row_idx - 2, col_idx2, \\\n",
    "                              row_idx - 2, col_idx2 + num_cols1 - 1, \\\n",
    "                              machine_framework_device, cell_format)\n",
    "            col_idx2 += num_cols1\n",
    "        sheet.merge_range(row_idx - 3, col_idx3, \\\n",
    "                          row_idx - 3, col_idx3 + num_cols2 - 1, \\\n",
    "                          machine_framework, cell_format)\n",
    "        col_idx3 += num_cols2\n",
    "            \n",
    "    sheet.merge_range(row_idx - 4, rel_col_idx, \\\n",
    "                      row_idx - 4, rel_col_idx + num_cols - 1, \\\n",
    "                      machine, cell_format)\n",
    "    rel_col_idx += num_cols\n",
    "\n",
    "book.close()"
   ]
  },
  {
   "cell_type": "code",
   "execution_count": null,
   "metadata": {},
   "outputs": [],
   "source": []
  }
 ],
 "metadata": {
  "kernelspec": {
   "display_name": "Python 3",
   "language": "python",
   "name": "python3"
  },
  "language_info": {
   "codemirror_mode": {
    "name": "ipython",
    "version": 3
   },
   "file_extension": ".py",
   "mimetype": "text/x-python",
   "name": "python",
   "nbconvert_exporter": "python",
   "pygments_lexer": "ipython3",
   "version": "3.7.4"
  }
 },
 "nbformat": 4,
 "nbformat_minor": 2
}
